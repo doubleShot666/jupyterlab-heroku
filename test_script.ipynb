{
 "cells": [
  {
   "cell_type": "markdown",
   "metadata": {},
   "source": [
    "This test Script shows how to use the library kernelo to generate learning data set, and how to use the functional model with custom photometries."
   ]
  },
  {
   "cell_type": "code",
   "execution_count": 1,
   "metadata": {},
   "outputs": [],
   "source": [
    "# Import kernelo library\n",
    "import kernelo as ker\n",
    "\n",
    "import numpy as np\n",
    "import json \n",
    "import time"
   ]
  },
  {
   "cell_type": "code",
   "execution_count": 4,
   "metadata": {},
   "outputs": [],
   "source": [
    "# Read geometries and photometries from test file\n",
    "with open('test_hapke.json') as json_file:\n",
    "    data = json.load(json_file)\n",
    "    \n",
    "    geom = np.array([data['eme'],\n",
    "                     data['inc'],\n",
    "                     data['phi']]).transpose() # column indexing\n",
    "    \n",
    "    photom = np.array([\n",
    "        data['omega'],\n",
    "        [x/30 for x in data['theta0']],\n",
    "        data['b'],\n",
    "        data['c'],\n",
    "        data['b0'],\n",
    "        data['hh']]).transpose() # column indexing"
   ]
  },
  {
   "cell_type": "markdown",
   "metadata": {},
   "source": [
    "Create a Hapke model with its parameters adapter"
   ]
  },
  {
   "cell_type": "code",
   "execution_count": null,
   "metadata": {},
   "outputs": [],
   "source": [
    "# Create Hapke model's adapter\n",
    "\n",
    "# Create a six photometric parameters Hapke model adapter\n",
    "mySixParamsAdapter = ker.SixParamsHapkeAdapterConfig()\n",
    "\n",
    "# Create a four photometric parameters Hapke model adapter with b0 = 1.0 and h = 0.0\n",
    "myFourParamsAdapter = ker.FourParamsHapkeAdapterConfig(1.0, 0.0)\n",
    "\n",
    "# Create a three photometric parameters Hapke model adapter with b0 = 1.0 and h = 0.0\n",
    "myThreeParamsAdapter = ker.ThreeParamsHapkeAdapterConfig(1.0, 0.0)\n",
    "\n",
    "# Create 2002 Hapke model's version with Theta_bar_scalling = 30\n",
    "my02Model = ker.HapkeModelConfig(\"2002\", mySixParamsAdapter, geom, 30).create()\n",
    "\n",
    "# Create 2093 Hapke model's version with Theta_bar_scalling = 30\n",
    "my93Model = ker.HapkeModelConfig(\"1993\", myFourParamsAdapter, geom, 30).create()"
   ]
  },
  {
   "cell_type": "code",
   "execution_count": null,
   "metadata": {},
   "outputs": [],
   "source": [
    "start_time = time.time()\n",
    "\n",
    "# Calculate reflectances \n",
    "Y = []\n",
    "\n",
    "for p in photom:\n",
    "    Y.append(my02Model.F(p))\n",
    "\n",
    "elapsed_time = (time.time() - start_time)\n",
    "print(\"Execution time for Y=F(X) where D = 50, L= 6 and n = 10000 : \" + elapsed_time)"
   ]
  },
  {
   "cell_type": "markdown",
   "metadata": {},
   "source": [
    "Data generation test"
   ]
  },
  {
   "cell_type": "code",
   "execution_count": null,
   "metadata": {},
   "outputs": [],
   "source": [
    "# Create a Gaussian statistical model based on Hapke 1993 model with random covariance and\n",
    "# a seed = 12345\n",
    "covariance = np.random.rand(my93Model.get_D_dimension())\n",
    "myStatModel_1 = ker.DependentGaussianStatModelConfig(\"sobol\", my93Model, covariance, 12345).create()\n",
    "\n",
    "x_gen, y_gen = myStatModel_1.gen_data(10)"
   ]
  },
  {
   "cell_type": "code",
   "execution_count": null,
   "metadata": {},
   "outputs": [],
   "source": [
    "# Create a statistical model based on Hapke 2002 model with r = 20% (noise effect) and\n",
    "# a seed = 12345\n",
    "myStatModel_1 = ker.DependentGaussianStatModelConfig(\"sobol\", my02Model, 20, 12345).create()\n",
    "\n",
    "x_gen, y_gen = myStatModel_1.gen_data(10)"
   ]
  }
 ],
 "metadata": {
  "kernelspec": {
   "display_name": "Python 3",
   "language": "python",
   "name": "python3"
  },
  "language_info": {
   "codemirror_mode": {
    "name": "ipython",
    "version": 3
   },
   "file_extension": ".py",
   "mimetype": "text/x-python",
   "name": "python",
   "nbconvert_exporter": "python",
   "pygments_lexer": "ipython3",
   "version": "3.7.6"
  }
 },
 "nbformat": 4,
 "nbformat_minor": 4
}
